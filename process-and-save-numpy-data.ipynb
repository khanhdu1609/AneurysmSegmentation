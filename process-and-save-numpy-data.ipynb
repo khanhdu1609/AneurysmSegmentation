{
 "cells": [
  {
   "cell_type": "markdown",
   "metadata": {},
   "source": [
    "## **Find the mean voxel spacing**"
   ]
  },
  {
   "cell_type": "code",
   "execution_count": null,
   "metadata": {
    "execution": {
     "iopub.execute_input": "2025-01-21T06:06:06.309791Z",
     "iopub.status.busy": "2025-01-21T06:06:06.309420Z",
     "iopub.status.idle": "2025-01-21T06:06:10.092688Z",
     "shell.execute_reply": "2025-01-21T06:06:10.091635Z",
     "shell.execute_reply.started": "2025-01-21T06:06:06.309756Z"
    },
    "trusted": true
   },
   "outputs": [
    {
     "name": "stdout",
     "output_type": "stream",
     "text": [
      "Mean Voxel Spacing (x, y, z): [0.35236164320886665, 0.35236164320886665, 0.5446875839106804]\n"
     ]
    }
   ],
   "source": [
    "import os\n",
    "import nibabel as nib\n",
    "\n",
    "# Specify the parent folder\n",
    "parent_folder = \"/kaggle/input/aneurysm-dataset-qingdao/aneurysm_dataset\"\n",
    "\n",
    "# Initialize variables for summation and count\n",
    "voxel_sums = [0.0, 0.0, 0.0]\n",
    "file_count = 0\n",
    "\n",
    "# Iterate through each subfolder in the parent folder\n",
    "for subfolder in os.listdir(parent_folder):\n",
    "    subfolder_path = os.path.join(parent_folder, subfolder)\n",
    "    \n",
    "    # Check if it's a directory\n",
    "    if os.path.isdir(subfolder_path):\n",
    "        label_file = os.path.join(subfolder_path, \"aneurysms.nii\")\n",
    "        \n",
    "        # Ensure the file exists\n",
    "        if os.path.exists(label_file):\n",
    "            # Load the NIfTI file\n",
    "            label_nii = nib.load(label_file)\n",
    "            \n",
    "            # Get the header and voxel spacing\n",
    "            header = label_nii.header\n",
    "            voxel_spacing = header.get_zooms()[:3]  # x, y, z spacings\n",
    "            \n",
    "            # Update summation and count\n",
    "            voxel_sums = [voxel_sums[i] + voxel_spacing[i] for i in range(3)]\n",
    "            file_count += 1\n",
    "\n",
    "# Calculate mean voxel spacing\n",
    "# if file_count > 0:\n",
    "#     mean_voxel_spacing = [voxel_sums[i] / file_count for i in range(3)]\n",
    "#     print(\"Mean Voxel Spacing (x, y, z):\", mean_voxel_spacing)\n",
    "# else:\n",
    "#     print(\"No valid files found.\")\n"
   ]
  },
  {
   "cell_type": "markdown",
   "metadata": {},
   "source": [
    "## **Process the data**"
   ]
  },
  {
   "cell_type": "markdown",
   "metadata": {},
   "source": [
    "## Rescale"
   ]
  },
  {
   "cell_type": "code",
   "execution_count": 3,
   "metadata": {
    "execution": {
     "iopub.execute_input": "2025-01-21T09:10:18.981197Z",
     "iopub.status.busy": "2025-01-21T09:10:18.980852Z",
     "iopub.status.idle": "2025-01-21T09:10:19.157553Z",
     "shell.execute_reply": "2025-01-21T09:10:19.156458Z",
     "shell.execute_reply.started": "2025-01-21T09:10:18.981167Z"
    },
    "trusted": true
   },
   "outputs": [],
   "source": [
    "import numpy as np\n",
    "from scipy.ndimage import zoom\n",
    "\n",
    "def rescale(image, label, input_space, output_space=(0.35236164320886665, 0.35236164320886665, 0.5446875839106804)):\n",
    "    assert image.shape == label.shape, f\"Image shape: {image.shape} != Label shape: {label.shape}\"\n",
    "    zoom_factor = tuple(input_space[i] / output_space[i] for i in range(3))\n",
    "    # Rescale the image with cubic interpolation\n",
    "    image_rescale = zoom(image, zoom_factor, order=3)\n",
    "    # Rescale the label with nearest-neighbor interpolation\n",
    "    label_rescale = zoom(label, zoom_factor, order=0)\n",
    "    return image_rescale, label_rescale"
   ]
  },
  {
   "cell_type": "markdown",
   "metadata": {},
   "source": [
    "## Normalize"
   ]
  },
  {
   "cell_type": "code",
   "execution_count": 4,
   "metadata": {
    "execution": {
     "iopub.execute_input": "2025-01-21T09:10:26.377348Z",
     "iopub.status.busy": "2025-01-21T09:10:26.376946Z",
     "iopub.status.idle": "2025-01-21T09:10:26.382471Z",
     "shell.execute_reply": "2025-01-21T09:10:26.381289Z",
     "shell.execute_reply.started": "2025-01-21T09:10:26.377315Z"
    },
    "trusted": true
   },
   "outputs": [],
   "source": [
    "def normalize_data(image_data):\n",
    "  mean = np.mean(image_data)\n",
    "  std = np.std(image_data)\n",
    "  normalized_data = (image_data - mean) / std\n",
    "  return normalized_data\n"
   ]
  },
  {
   "cell_type": "markdown",
   "metadata": {},
   "source": [
    "# **Write to txt**"
   ]
  },
  {
   "cell_type": "code",
   "execution_count": 5,
   "metadata": {
    "execution": {
     "iopub.execute_input": "2025-01-21T09:10:29.520663Z",
     "iopub.status.busy": "2025-01-21T09:10:29.520344Z",
     "iopub.status.idle": "2025-01-21T09:10:29.525631Z",
     "shell.execute_reply": "2025-01-21T09:10:29.524615Z",
     "shell.execute_reply.started": "2025-01-21T09:10:29.520637Z"
    },
    "trusted": true
   },
   "outputs": [],
   "source": [
    "import os\n",
    "import numpy as np\n",
    "\n",
    "def save_array_as_file(array, filename):\n",
    "    \"\"\"\n",
    "    Saves a single NumPy array to a .npy file, ensuring the directory exists.\n",
    "\n",
    "    Args:\n",
    "      array: NumPy array to save.\n",
    "      filename: Full path including the file name to save.\n",
    "    \"\"\"\n",
    "    # Ensure the directory exists\n",
    "    directory = os.path.dirname(filename)\n",
    "    os.makedirs(directory, exist_ok=True)  # Create directories if they don't exist\n",
    "\n",
    "    # Save array to file\n",
    "    np.save(filename, array)\n",
    "    print(f\"Saved array to {filename}\")\n"
   ]
  },
  {
   "cell_type": "code",
   "execution_count": null,
   "metadata": {
    "trusted": true
   },
   "outputs": [],
   "source": [
    "\n",
    "import os\n",
    "import nibabel as nib\n",
    "import numpy as np\n",
    "from scipy.ndimage import label, measurements, find_objects\n",
    "parent_folder = \"C:/Users/XgearHN_Lap/Downloads/nii_aneurysm_dataset\"\n",
    "# trained_folders = ['10055F', '10020', '10065B', '10052B', '10025', '10076B', '10016', '10050B', '10023', '10064F', '10034', '10069B', '10017', '10044B', '10049F', '10073B', '10051F', '10029', '10071B', '10061F', '10013', '10070B', '10015', '10054F', '10047B', '10066B', '10067F', '10055B', '10010', '10039', '10005', '10008', '10032', '10062B', '10077B', '10057F', '10044F', '10072F', '10009', '10004', '10001', '10002', '10006', '10018', '10024', '10033', '10035', '10038', '10047F', '10048B', '10060B', '10062F', '10063B', '10065F', '10068F', '10073F', '10074B', '10075F', '10076F', '10078F', '10007', '10022', '10026', '10028', '10036', '10041', '10045B', '10046F', '10050F', '10051B', '10056F', '10057B', '10059B', '10061B', '10064B', '10067B', '10069F', '10075B', '10077F', '10078B', '10037', '10053F', '10048F', '10054B', '10052F', '10011', '10019', '10040', '10056B', '10068B', '10045F', '10072B', '10049B', '10031', '10060F', '10043', '10027']\n",
    "for subfolder in os.listdir(parent_folder):\n",
    "    # if i == 20:\n",
    "    #     break\n",
    "    # if str(subfolder) not in trained_folders:\n",
    "    #     i+=1\n",
    "    #     trained_folders.append(str(subfolder))\n",
    "        subfolder_path = os.path.join(parent_folder, subfolder)\n",
    "        \n",
    "                # Check if it's a directory\n",
    "        if os.path.isdir(subfolder_path):\n",
    "            label_file = os.path.join(subfolder_path, \"aneurysms.nii\")\n",
    "            label_nii_data = nib.load(label_file)\n",
    "            label_data = label_nii_data.get_fdata()\n",
    "            label_data[label_data==2] = 0\n",
    "        \n",
    "            print(str(subfolder))\n",
    "            header = label_nii_data.header\n",
    "                # Get voxel spacing (pixdim[1:4] contains voxel dimensions along x, y, z)\n",
    "            voxel_spacing = header.get_zooms()\n",
    "                                \n",
    "            image_file = os.path.join(subfolder_path, \"pre/TOF.nii\")\n",
    "            image_nii_data = nib.load(image_file)\n",
    "            image_data = image_nii_data.get_fdata()\n",
    "                    \n",
    "            image_rescale, label_rescale = rescale(image_data, label_data, voxel_spacing)\n",
    "                #normalize image\n",
    "            normalized_image = normalize_data(image_rescale)\n",
    "            save_array_as_file(normalized_image, f'C:/Users/XgearHN_Lap/Downloads/pre_aneurysm_dataset/{subfolder}/image.npy')\n",
    "            save_array_as_file(label_rescale, f'C:/Users/XgearHN_Lap/Downloads/pre_aneurysm_dataset/{subfolder}/label.npy')\n"
   ]
  },
  {
   "cell_type": "code",
   "execution_count": 13,
   "metadata": {
    "execution": {
     "iopub.execute_input": "2025-01-27T10:54:49.297291Z",
     "iopub.status.busy": "2025-01-27T10:54:49.297108Z",
     "iopub.status.idle": "2025-01-27T10:55:48.669280Z",
     "shell.execute_reply": "2025-01-27T10:55:48.667801Z",
     "shell.execute_reply.started": "2025-01-27T10:54:49.297271Z"
    },
    "trusted": true
   },
   "outputs": [
    {
     "name": "stdout",
     "output_type": "stream",
     "text": [
      "Bounding boxes written to: C:/Users/XgearHN_Lap/Downloads/pre_aneurysm_dataset\\10001\\bounding_boxes.txt\n",
      "Bounding boxes written to: C:/Users/XgearHN_Lap/Downloads/pre_aneurysm_dataset\\10002\\bounding_boxes.txt\n",
      "Bounding boxes written to: C:/Users/XgearHN_Lap/Downloads/pre_aneurysm_dataset\\10003\\bounding_boxes.txt\n",
      "Bounding boxes written to: C:/Users/XgearHN_Lap/Downloads/pre_aneurysm_dataset\\10004\\bounding_boxes.txt\n",
      "Bounding boxes written to: C:/Users/XgearHN_Lap/Downloads/pre_aneurysm_dataset\\10005\\bounding_boxes.txt\n",
      "Bounding boxes written to: C:/Users/XgearHN_Lap/Downloads/pre_aneurysm_dataset\\10006\\bounding_boxes.txt\n",
      "Bounding boxes written to: C:/Users/XgearHN_Lap/Downloads/pre_aneurysm_dataset\\10007\\bounding_boxes.txt\n",
      "Bounding boxes written to: C:/Users/XgearHN_Lap/Downloads/pre_aneurysm_dataset\\10008\\bounding_boxes.txt\n",
      "Bounding boxes written to: C:/Users/XgearHN_Lap/Downloads/pre_aneurysm_dataset\\10009\\bounding_boxes.txt\n",
      "Bounding boxes written to: C:/Users/XgearHN_Lap/Downloads/pre_aneurysm_dataset\\10010\\bounding_boxes.txt\n",
      "Bounding boxes written to: C:/Users/XgearHN_Lap/Downloads/pre_aneurysm_dataset\\10011\\bounding_boxes.txt\n",
      "Bounding boxes written to: C:/Users/XgearHN_Lap/Downloads/pre_aneurysm_dataset\\10012\\bounding_boxes.txt\n",
      "Bounding boxes written to: C:/Users/XgearHN_Lap/Downloads/pre_aneurysm_dataset\\10013\\bounding_boxes.txt\n",
      "Bounding boxes written to: C:/Users/XgearHN_Lap/Downloads/pre_aneurysm_dataset\\10014\\bounding_boxes.txt\n",
      "Bounding boxes written to: C:/Users/XgearHN_Lap/Downloads/pre_aneurysm_dataset\\10015\\bounding_boxes.txt\n",
      "Bounding boxes written to: C:/Users/XgearHN_Lap/Downloads/pre_aneurysm_dataset\\10016\\bounding_boxes.txt\n",
      "Bounding boxes written to: C:/Users/XgearHN_Lap/Downloads/pre_aneurysm_dataset\\10017\\bounding_boxes.txt\n",
      "Bounding boxes written to: C:/Users/XgearHN_Lap/Downloads/pre_aneurysm_dataset\\10018\\bounding_boxes.txt\n",
      "Bounding boxes written to: C:/Users/XgearHN_Lap/Downloads/pre_aneurysm_dataset\\10019\\bounding_boxes.txt\n",
      "Bounding boxes written to: C:/Users/XgearHN_Lap/Downloads/pre_aneurysm_dataset\\10020\\bounding_boxes.txt\n",
      "Bounding boxes written to: C:/Users/XgearHN_Lap/Downloads/pre_aneurysm_dataset\\10021\\bounding_boxes.txt\n",
      "Bounding boxes written to: C:/Users/XgearHN_Lap/Downloads/pre_aneurysm_dataset\\10022\\bounding_boxes.txt\n",
      "Bounding boxes written to: C:/Users/XgearHN_Lap/Downloads/pre_aneurysm_dataset\\10023\\bounding_boxes.txt\n",
      "Bounding boxes written to: C:/Users/XgearHN_Lap/Downloads/pre_aneurysm_dataset\\10024\\bounding_boxes.txt\n",
      "Bounding boxes written to: C:/Users/XgearHN_Lap/Downloads/pre_aneurysm_dataset\\10025\\bounding_boxes.txt\n",
      "Bounding boxes written to: C:/Users/XgearHN_Lap/Downloads/pre_aneurysm_dataset\\10026\\bounding_boxes.txt\n",
      "Bounding boxes written to: C:/Users/XgearHN_Lap/Downloads/pre_aneurysm_dataset\\10027\\bounding_boxes.txt\n",
      "Bounding boxes written to: C:/Users/XgearHN_Lap/Downloads/pre_aneurysm_dataset\\10028\\bounding_boxes.txt\n",
      "Bounding boxes written to: C:/Users/XgearHN_Lap/Downloads/pre_aneurysm_dataset\\10029\\bounding_boxes.txt\n",
      "Bounding boxes written to: C:/Users/XgearHN_Lap/Downloads/pre_aneurysm_dataset\\10030\\bounding_boxes.txt\n",
      "Bounding boxes written to: C:/Users/XgearHN_Lap/Downloads/pre_aneurysm_dataset\\10031\\bounding_boxes.txt\n",
      "Bounding boxes written to: C:/Users/XgearHN_Lap/Downloads/pre_aneurysm_dataset\\10032\\bounding_boxes.txt\n",
      "Bounding boxes written to: C:/Users/XgearHN_Lap/Downloads/pre_aneurysm_dataset\\10033\\bounding_boxes.txt\n",
      "Bounding boxes written to: C:/Users/XgearHN_Lap/Downloads/pre_aneurysm_dataset\\10034\\bounding_boxes.txt\n",
      "Bounding boxes written to: C:/Users/XgearHN_Lap/Downloads/pre_aneurysm_dataset\\10035\\bounding_boxes.txt\n",
      "Bounding boxes written to: C:/Users/XgearHN_Lap/Downloads/pre_aneurysm_dataset\\10036\\bounding_boxes.txt\n",
      "Bounding boxes written to: C:/Users/XgearHN_Lap/Downloads/pre_aneurysm_dataset\\10037\\bounding_boxes.txt\n",
      "Bounding boxes written to: C:/Users/XgearHN_Lap/Downloads/pre_aneurysm_dataset\\10038\\bounding_boxes.txt\n",
      "Bounding boxes written to: C:/Users/XgearHN_Lap/Downloads/pre_aneurysm_dataset\\10039\\bounding_boxes.txt\n",
      "Bounding boxes written to: C:/Users/XgearHN_Lap/Downloads/pre_aneurysm_dataset\\10040\\bounding_boxes.txt\n",
      "Bounding boxes written to: C:/Users/XgearHN_Lap/Downloads/pre_aneurysm_dataset\\10041\\bounding_boxes.txt\n",
      "Bounding boxes written to: C:/Users/XgearHN_Lap/Downloads/pre_aneurysm_dataset\\10042\\bounding_boxes.txt\n",
      "Bounding boxes written to: C:/Users/XgearHN_Lap/Downloads/pre_aneurysm_dataset\\10043\\bounding_boxes.txt\n",
      "Bounding boxes written to: C:/Users/XgearHN_Lap/Downloads/pre_aneurysm_dataset\\10044B\\bounding_boxes.txt\n",
      "Bounding boxes written to: C:/Users/XgearHN_Lap/Downloads/pre_aneurysm_dataset\\10044F\\bounding_boxes.txt\n",
      "Bounding boxes written to: C:/Users/XgearHN_Lap/Downloads/pre_aneurysm_dataset\\10045B\\bounding_boxes.txt\n",
      "Bounding boxes written to: C:/Users/XgearHN_Lap/Downloads/pre_aneurysm_dataset\\10045F\\bounding_boxes.txt\n",
      "Bounding boxes written to: C:/Users/XgearHN_Lap/Downloads/pre_aneurysm_dataset\\10046B\\bounding_boxes.txt\n",
      "Bounding boxes written to: C:/Users/XgearHN_Lap/Downloads/pre_aneurysm_dataset\\10046F\\bounding_boxes.txt\n",
      "Bounding boxes written to: C:/Users/XgearHN_Lap/Downloads/pre_aneurysm_dataset\\10047B\\bounding_boxes.txt\n",
      "Bounding boxes written to: C:/Users/XgearHN_Lap/Downloads/pre_aneurysm_dataset\\10047F\\bounding_boxes.txt\n",
      "Bounding boxes written to: C:/Users/XgearHN_Lap/Downloads/pre_aneurysm_dataset\\10048B\\bounding_boxes.txt\n",
      "Bounding boxes written to: C:/Users/XgearHN_Lap/Downloads/pre_aneurysm_dataset\\10048F\\bounding_boxes.txt\n",
      "Bounding boxes written to: C:/Users/XgearHN_Lap/Downloads/pre_aneurysm_dataset\\10049B\\bounding_boxes.txt\n",
      "Bounding boxes written to: C:/Users/XgearHN_Lap/Downloads/pre_aneurysm_dataset\\10049F\\bounding_boxes.txt\n",
      "Bounding boxes written to: C:/Users/XgearHN_Lap/Downloads/pre_aneurysm_dataset\\10050B\\bounding_boxes.txt\n",
      "Bounding boxes written to: C:/Users/XgearHN_Lap/Downloads/pre_aneurysm_dataset\\10050F\\bounding_boxes.txt\n",
      "Bounding boxes written to: C:/Users/XgearHN_Lap/Downloads/pre_aneurysm_dataset\\10051B\\bounding_boxes.txt\n",
      "Bounding boxes written to: C:/Users/XgearHN_Lap/Downloads/pre_aneurysm_dataset\\10051F\\bounding_boxes.txt\n",
      "Bounding boxes written to: C:/Users/XgearHN_Lap/Downloads/pre_aneurysm_dataset\\10052B\\bounding_boxes.txt\n",
      "Bounding boxes written to: C:/Users/XgearHN_Lap/Downloads/pre_aneurysm_dataset\\10052F\\bounding_boxes.txt\n",
      "Bounding boxes written to: C:/Users/XgearHN_Lap/Downloads/pre_aneurysm_dataset\\10053B\\bounding_boxes.txt\n",
      "Bounding boxes written to: C:/Users/XgearHN_Lap/Downloads/pre_aneurysm_dataset\\10053F\\bounding_boxes.txt\n",
      "Bounding boxes written to: C:/Users/XgearHN_Lap/Downloads/pre_aneurysm_dataset\\10054B\\bounding_boxes.txt\n",
      "Bounding boxes written to: C:/Users/XgearHN_Lap/Downloads/pre_aneurysm_dataset\\10054F\\bounding_boxes.txt\n",
      "Bounding boxes written to: C:/Users/XgearHN_Lap/Downloads/pre_aneurysm_dataset\\10055B\\bounding_boxes.txt\n",
      "Bounding boxes written to: C:/Users/XgearHN_Lap/Downloads/pre_aneurysm_dataset\\10055F\\bounding_boxes.txt\n",
      "Bounding boxes written to: C:/Users/XgearHN_Lap/Downloads/pre_aneurysm_dataset\\10056B\\bounding_boxes.txt\n",
      "Bounding boxes written to: C:/Users/XgearHN_Lap/Downloads/pre_aneurysm_dataset\\10056F\\bounding_boxes.txt\n",
      "Bounding boxes written to: C:/Users/XgearHN_Lap/Downloads/pre_aneurysm_dataset\\10057B\\bounding_boxes.txt\n",
      "Bounding boxes written to: C:/Users/XgearHN_Lap/Downloads/pre_aneurysm_dataset\\10057F\\bounding_boxes.txt\n",
      "Bounding boxes written to: C:/Users/XgearHN_Lap/Downloads/pre_aneurysm_dataset\\10058B\\bounding_boxes.txt\n",
      "Bounding boxes written to: C:/Users/XgearHN_Lap/Downloads/pre_aneurysm_dataset\\10058F\\bounding_boxes.txt\n",
      "Bounding boxes written to: C:/Users/XgearHN_Lap/Downloads/pre_aneurysm_dataset\\10059B\\bounding_boxes.txt\n",
      "Bounding boxes written to: C:/Users/XgearHN_Lap/Downloads/pre_aneurysm_dataset\\10059F\\bounding_boxes.txt\n",
      "Bounding boxes written to: C:/Users/XgearHN_Lap/Downloads/pre_aneurysm_dataset\\10060B\\bounding_boxes.txt\n",
      "Bounding boxes written to: C:/Users/XgearHN_Lap/Downloads/pre_aneurysm_dataset\\10060F\\bounding_boxes.txt\n",
      "Bounding boxes written to: C:/Users/XgearHN_Lap/Downloads/pre_aneurysm_dataset\\10061B\\bounding_boxes.txt\n",
      "Bounding boxes written to: C:/Users/XgearHN_Lap/Downloads/pre_aneurysm_dataset\\10061F\\bounding_boxes.txt\n",
      "Bounding boxes written to: C:/Users/XgearHN_Lap/Downloads/pre_aneurysm_dataset\\10062B\\bounding_boxes.txt\n",
      "Bounding boxes written to: C:/Users/XgearHN_Lap/Downloads/pre_aneurysm_dataset\\10062F\\bounding_boxes.txt\n",
      "Bounding boxes written to: C:/Users/XgearHN_Lap/Downloads/pre_aneurysm_dataset\\10063B\\bounding_boxes.txt\n",
      "Bounding boxes written to: C:/Users/XgearHN_Lap/Downloads/pre_aneurysm_dataset\\10063F\\bounding_boxes.txt\n",
      "Bounding boxes written to: C:/Users/XgearHN_Lap/Downloads/pre_aneurysm_dataset\\10064B\\bounding_boxes.txt\n",
      "Bounding boxes written to: C:/Users/XgearHN_Lap/Downloads/pre_aneurysm_dataset\\10064F\\bounding_boxes.txt\n",
      "Bounding boxes written to: C:/Users/XgearHN_Lap/Downloads/pre_aneurysm_dataset\\10065B\\bounding_boxes.txt\n",
      "Bounding boxes written to: C:/Users/XgearHN_Lap/Downloads/pre_aneurysm_dataset\\10065F\\bounding_boxes.txt\n",
      "Bounding boxes written to: C:/Users/XgearHN_Lap/Downloads/pre_aneurysm_dataset\\10066B\\bounding_boxes.txt\n",
      "Bounding boxes written to: C:/Users/XgearHN_Lap/Downloads/pre_aneurysm_dataset\\10066F\\bounding_boxes.txt\n",
      "Bounding boxes written to: C:/Users/XgearHN_Lap/Downloads/pre_aneurysm_dataset\\10067B\\bounding_boxes.txt\n",
      "Bounding boxes written to: C:/Users/XgearHN_Lap/Downloads/pre_aneurysm_dataset\\10067F\\bounding_boxes.txt\n",
      "Bounding boxes written to: C:/Users/XgearHN_Lap/Downloads/pre_aneurysm_dataset\\10068B\\bounding_boxes.txt\n",
      "Bounding boxes written to: C:/Users/XgearHN_Lap/Downloads/pre_aneurysm_dataset\\10068F\\bounding_boxes.txt\n",
      "Bounding boxes written to: C:/Users/XgearHN_Lap/Downloads/pre_aneurysm_dataset\\10069B\\bounding_boxes.txt\n",
      "Bounding boxes written to: C:/Users/XgearHN_Lap/Downloads/pre_aneurysm_dataset\\10069F\\bounding_boxes.txt\n",
      "Bounding boxes written to: C:/Users/XgearHN_Lap/Downloads/pre_aneurysm_dataset\\10070B\\bounding_boxes.txt\n",
      "Bounding boxes written to: C:/Users/XgearHN_Lap/Downloads/pre_aneurysm_dataset\\10070F\\bounding_boxes.txt\n",
      "Bounding boxes written to: C:/Users/XgearHN_Lap/Downloads/pre_aneurysm_dataset\\10071B\\bounding_boxes.txt\n",
      "Bounding boxes written to: C:/Users/XgearHN_Lap/Downloads/pre_aneurysm_dataset\\10071F\\bounding_boxes.txt\n",
      "Bounding boxes written to: C:/Users/XgearHN_Lap/Downloads/pre_aneurysm_dataset\\10072B\\bounding_boxes.txt\n",
      "Bounding boxes written to: C:/Users/XgearHN_Lap/Downloads/pre_aneurysm_dataset\\10072F\\bounding_boxes.txt\n",
      "Bounding boxes written to: C:/Users/XgearHN_Lap/Downloads/pre_aneurysm_dataset\\10073B\\bounding_boxes.txt\n",
      "Bounding boxes written to: C:/Users/XgearHN_Lap/Downloads/pre_aneurysm_dataset\\10073F\\bounding_boxes.txt\n",
      "Bounding boxes written to: C:/Users/XgearHN_Lap/Downloads/pre_aneurysm_dataset\\10074B\\bounding_boxes.txt\n",
      "Bounding boxes written to: C:/Users/XgearHN_Lap/Downloads/pre_aneurysm_dataset\\10074F\\bounding_boxes.txt\n",
      "Bounding boxes written to: C:/Users/XgearHN_Lap/Downloads/pre_aneurysm_dataset\\10075B\\bounding_boxes.txt\n",
      "Bounding boxes written to: C:/Users/XgearHN_Lap/Downloads/pre_aneurysm_dataset\\10075F\\bounding_boxes.txt\n",
      "Bounding boxes written to: C:/Users/XgearHN_Lap/Downloads/pre_aneurysm_dataset\\10076B\\bounding_boxes.txt\n",
      "Bounding boxes written to: C:/Users/XgearHN_Lap/Downloads/pre_aneurysm_dataset\\10076F\\bounding_boxes.txt\n",
      "Bounding boxes written to: C:/Users/XgearHN_Lap/Downloads/pre_aneurysm_dataset\\10077B\\bounding_boxes.txt\n",
      "Bounding boxes written to: C:/Users/XgearHN_Lap/Downloads/pre_aneurysm_dataset\\10077F\\bounding_boxes.txt\n",
      "Bounding boxes written to: C:/Users/XgearHN_Lap/Downloads/pre_aneurysm_dataset\\10078B\\bounding_boxes.txt\n",
      "Bounding boxes written to: C:/Users/XgearHN_Lap/Downloads/pre_aneurysm_dataset\\10078F\\bounding_boxes.txt\n"
     ]
    }
   ],
   "source": [
    "import os\n",
    "import numpy as np\n",
    "from scipy.ndimage import label, find_objects\n",
    "\n",
    "def find_bounding_boxes_3d(label_path):\n",
    "    \"\"\"Find 3D bounding boxes from a 3D label.npy file.\"\"\"\n",
    "    label_data = np.load(label_path)  # Load 3D label.npy\n",
    "    labeled_array, num_features = label(label_data)  # Label connected components\n",
    "    objects = find_objects(labeled_array)  # Get bounding boxes\n",
    "\n",
    "    bounding_boxes = []\n",
    "    for obj in objects:\n",
    "        if obj is not None:\n",
    "            # Extract bounding box coordinates (zmin, zmax, ymin, ymax, xmin, xmax)\n",
    "            xmin, xmax = obj[0].start, obj[0].stop\n",
    "            ymin, ymax = obj[1].start, obj[1].stop\n",
    "            zmin, zmax = obj[2].start, obj[2].stop\n",
    "            bounding_boxes.append((xmin, ymin, zmin, xmax, ymax, zmax))\n",
    "\n",
    "    return bounding_boxes\n",
    "\n",
    "def process_subfolders(parent_folder):\n",
    "    \"\"\"Process each subfolder to find 3D bounding boxes and save to file.\"\"\"\n",
    "    for subdir in os.listdir(parent_folder):\n",
    "        subdir_path = os.path.join(parent_folder, subdir)\n",
    "        if os.path.isdir(subdir_path):  # Check if it's a directory\n",
    "            label_path = os.path.join(subdir_path, \"label.npy\")\n",
    "            if os.path.exists(label_path):  # Check if label.npy exists\n",
    "                bounding_boxes = find_bounding_boxes_3d(label_path)\n",
    "\n",
    "                # Write to bounding_boxes.txt\n",
    "                bounding_boxes_path = os.path.join(subdir_path, \"bounding_boxes.txt\")\n",
    "                with open(bounding_boxes_path, \"w\") as f:\n",
    "                    pass\n",
    "                with open(bounding_boxes_path, \"a\") as f:  # Append to existing file if it exists:\n",
    "                    for i, bbox in enumerate(bounding_boxes):\n",
    "                        f.write(f\"Bounding Box {i} Coordinates:\\n\")\n",
    "                        f.write(f\"x: {bbox[0]}-{bbox[3]}\\n\")\n",
    "                        f.write(f\"y: {bbox[1]}-{bbox[4]}\\n\")\n",
    "                        f.write(f\"z: {bbox[2]}-{bbox[5]}\\n\")\n",
    "                print(f\"Bounding boxes written to: {bounding_boxes_path}\")\n",
    "\n",
    "# Change this to the path of your parent folder\n",
    "parent_folder = \"C:/Users/XgearHN_Lap/Downloads/pre_aneurysm_dataset\"\n",
    "process_subfolders(parent_folder)\n"
   ]
  }
 ],
 "metadata": {
  "kaggle": {
   "accelerator": "none",
   "dataSources": [
    {
     "datasetId": 6345447,
     "sourceId": 10257712,
     "sourceType": "datasetVersion"
    },
    {
     "datasetId": 6520623,
     "sourceId": 10538486,
     "sourceType": "datasetVersion"
    }
   ],
   "dockerImageVersionId": 30822,
   "isGpuEnabled": false,
   "isInternetEnabled": true,
   "language": "python",
   "sourceType": "notebook"
  },
  "kernelspec": {
   "display_name": "base",
   "language": "python",
   "name": "python3"
  },
  "language_info": {
   "codemirror_mode": {
    "name": "ipython",
    "version": 3
   },
   "file_extension": ".py",
   "mimetype": "text/x-python",
   "name": "python",
   "nbconvert_exporter": "python",
   "pygments_lexer": "ipython3",
   "version": "3.12.7"
  }
 },
 "nbformat": 4,
 "nbformat_minor": 4
}
